{
 "cells": [
  {
   "cell_type": "code",
   "execution_count": null,
   "metadata": {},
   "outputs": [],
   "source": [
    "import pandas as pd\n",
    "import numpy as np\n",
    "\n",
    "import plotly.graph_objects as go"
   ]
  },
  {
   "cell_type": "code",
   "execution_count": 2,
   "metadata": {},
   "outputs": [
    {
     "name": "stdout",
     "output_type": "stream",
     "text": [
      "[8.44, 9.414, 10.387999999999998, 11.361999999999998, 12.335999999999999, 13.309999999999999, 14.283999999999999, 15.258, 16.232, 17.206, 18.18, 19.154, 20.128, 21.102, 22.075999999999997, 23.049999999999997, 24.023999999999997, 24.997999999999998, 25.971999999999998, 26.945999999999998, 27.919999999999998, 28.894, 29.868, 30.841999999999995, 31.816, 32.79, 33.764, 34.738, 35.712, 36.686, 37.660000000000004, 38.634, 39.608000000000004, 40.582, 41.556000000000004, 42.53, 43.504000000000005, 44.478, 45.452, 46.426, 47.4, 48.374, 49.348, 50.322, 51.296, 52.27, 53.244, 54.218, 55.192, 56.166000000000004, 57.14, 58.114000000000004, 59.088, 60.062000000000005, 61.036, 62.01, 62.983999999999995, 63.958, 64.932, 65.906, 66.88, 67.854, 68.828, 69.802, 70.776, 71.75, 72.724, 73.69800000000001, 74.672, 75.646, 76.62, 77.594, 78.568, 79.542, 80.516, 81.49, 82.464, 83.438, 84.412, 85.386, 86.36, 87.334, 88.308, 89.282, 90.256, 91.23, 92.204, 93.178, 94.152, 95.126, 96.1]\n"
     ]
    }
   ],
   "source": [
    "def withdrawal_calculator(withdrawal_amount):\n",
    "    # Withdrawal amount is in USD\n",
    "    # Withdrawal method is using Mastercard\n",
    "    # For more information: https://roboforex.com/clients/funds/deposit-withdrawal/\n",
    "    # Charging fee is 2.6%\n",
    "    withdrawal_amount *= 0.974\n",
    "    \n",
    "    # Return the actual amount after deduction\n",
    "    deduct_fee = 1.3\n",
    "    return withdrawal_amount - deduct_fee\n",
    "\n",
    "range_values = range(10,101)\n",
    "\n",
    "x_values = [i for i in range_values]\n",
    "y_values = [withdrawal_calculator(i) for i in range_values]\n",
    "\n",
    "print(y_values)"
   ]
  }
 ],
 "metadata": {
  "kernelspec": {
   "display_name": "Python 3",
   "language": "python",
   "name": "python3"
  },
  "language_info": {
   "codemirror_mode": {
    "name": "ipython",
    "version": 3
   },
   "file_extension": ".py",
   "mimetype": "text/x-python",
   "name": "python",
   "nbconvert_exporter": "python",
   "pygments_lexer": "ipython3",
   "version": "3.7.6"
  }
 },
 "nbformat": 4,
 "nbformat_minor": 4
}
