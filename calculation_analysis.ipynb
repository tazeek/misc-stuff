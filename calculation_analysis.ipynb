{
 "cells": [
  {
   "cell_type": "code",
   "execution_count": 1,
   "metadata": {},
   "outputs": [],
   "source": [
    "import pandas as pd\n",
    "import numpy as np\n",
    "\n",
    "import plotly.graph_objects as go"
   ]
  },
  {
   "cell_type": "code",
   "execution_count": 3,
   "metadata": {},
   "outputs": [
    {
     "name": "stdout",
     "output_type": "stream",
     "text": [
      "8.44\n"
     ]
    }
   ],
   "source": [
    "def withdrawal_calculator(withdrawal_amount):\n",
    "    # Withdrawal amount is in USD\n",
    "    # Withdrawal method is using Mastercard\n",
    "    # For more information: https://roboforex.com/clients/funds/deposit-withdrawal/\n",
    "    # Charging fee is 2.6%\n",
    "    withdrawal_amount *= 0.974\n",
    "    \n",
    "    # Return the actual amount after deduction\n",
    "    deduct_fee = 1.3\n",
    "    return withdrawal_amount - deduct_fee\n",
    "\n",
    "test_amount = withdrawal_calculator(10)\n",
    "print(test_amount)"
   ]
  }
 ],
 "metadata": {
  "kernelspec": {
   "display_name": "Python 3",
   "language": "python",
   "name": "python3"
  },
  "language_info": {
   "codemirror_mode": {
    "name": "ipython",
    "version": 3
   },
   "file_extension": ".py",
   "mimetype": "text/x-python",
   "name": "python",
   "nbconvert_exporter": "python",
   "pygments_lexer": "ipython3",
   "version": "3.7.6"
  }
 },
 "nbformat": 4,
 "nbformat_minor": 4
}
