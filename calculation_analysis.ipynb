{
 "cells": [
  {
   "cell_type": "code",
   "execution_count": null,
   "metadata": {},
   "outputs": [],
   "source": [
    "import pandas as pd\n",
    "import numpy as np\n",
    "\n",
    "import plotly.graph_objects as go"
   ]
  },
  {
   "cell_type": "code",
   "execution_count": null,
   "metadata": {},
   "outputs": [],
   "source": [
    "def withdrawal_calculator(withdrawal_amount):\n",
    "    # Withdrawal amount is in USD\n",
    "    # Withdrawal method is using Mastercard\n",
    "    # For more information: https://roboforex.com/clients/funds/deposit-withdrawal/\n",
    "    # Charging fee is 2.6%\n",
    "    withdrawal_amount *= 0.974\n",
    "    \n",
    "    # Return the actual amount after deduction\n",
    "    deduct_fee = 1.3\n",
    "    return withdrawal_amount - deduct_fee\n",
    "\n",
    "range_values = range(10,101)\n",
    "\n",
    "x_values = [i for i in range_values]\n",
    "y_values = [withdrawal_calculator(i) for i in range_values]\n",
    "\n",
    "fig = go.Figure()\n",
    "\n",
    "fig.add_trace(go.Scatter(\n",
    "        x=x_values, y=y_values,\n",
    "        mode='lines',\n",
    "        hovertemplate=\n",
    "        'Pre-deduction: %{x} <br>' +\n",
    "        'Post-deduction: %{y:.2f}<extra></extra>'))\n",
    "\n",
    "fig.show()"
   ]
  }
 ],
 "metadata": {
  "kernelspec": {
   "display_name": "Python 3",
   "language": "python",
   "name": "python3"
  },
  "language_info": {
   "codemirror_mode": {
    "name": "ipython",
    "version": 3
   },
   "file_extension": ".py",
   "mimetype": "text/x-python",
   "name": "python",
   "nbconvert_exporter": "python",
   "pygments_lexer": "ipython3",
   "version": "3.7.6"
  }
 },
 "nbformat": 4,
 "nbformat_minor": 4
}
